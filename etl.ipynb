{
 "cells": [
  {
   "cell_type": "code",
   "execution_count": 31,
   "metadata": {},
   "outputs": [],
   "source": [
    "import tabula\n",
    "import pandas as pd\n",
    "import glob\n",
    "from zipfile import ZipFile"
   ]
  },
  {
   "cell_type": "code",
   "execution_count": 32,
   "metadata": {},
   "outputs": [],
   "source": [
    "pdf_file = 'data/padrao_tiss_componente_organizacional_202108.pdf'"
   ]
  },
  {
   "cell_type": "markdown",
   "metadata": {},
   "source": [
    "### Transformação do quadro 30"
   ]
  },
  {
   "cell_type": "code",
   "execution_count": 35,
   "metadata": {},
   "outputs": [
    {
     "name": "stderr",
     "output_type": "stream",
     "text": [
      "Got stderr: out 06, 2021 12:17:49 PM org.apache.pdfbox.pdmodel.font.PDTrueTypeFont <init>\n",
      "WARNING: Using fallback font 'Arial-BoldMT' for 'Helvetica,Bold'\n",
      "out 06, 2021 12:17:51 PM org.apache.pdfbox.pdmodel.font.PDTrueTypeFont <init>\n",
      "WARNING: Using fallback font 'Arial-BoldMT' for 'Helvetica,Bold'\n",
      "\n"
     ]
    }
   ],
   "source": [
    "#Usa a lib tabula para transformar a tabela do pdf em dataframe\n",
    "quadro30 = tabula.read_pdf(pdf_file, pages = 108)\n",
    "tabela = quadro30[0]"
   ]
  },
  {
   "cell_type": "code",
   "execution_count": 36,
   "metadata": {},
   "outputs": [],
   "source": [
    "#Separa as tabelas de código e descrição\n",
    "tabela[[\"Código\",\"Descrição da categoria\"]] = tabela[\"Tabela de Tipo do Demandante\"].str.split(\" \",1, expand=True)"
   ]
  },
  {
   "cell_type": "code",
   "execution_count": 37,
   "metadata": {},
   "outputs": [],
   "source": [
    "#Define a tabela de código com índice do dataframe\n",
    "tabela.drop(['Tabela de Tipo do Demandante'],axis=1,inplace=True)\n",
    "tabela.columns = tabela.iloc[0]\n",
    "tabela.drop(0,inplace=True)\n",
    "tabela.set_index(\"Código\",inplace=True)"
   ]
  },
  {
   "cell_type": "code",
   "execution_count": 39,
   "metadata": {},
   "outputs": [],
   "source": [
    "#Salva o dataframe como um arquivo csv\n",
    "tabela.to_csv('quadro30.csv',sep=\";\")"
   ]
  },
  {
   "cell_type": "markdown",
   "metadata": {},
   "source": [
    "### Transformação do quadro 31"
   ]
  },
  {
   "cell_type": "code",
   "execution_count": 53,
   "metadata": {},
   "outputs": [
    {
     "name": "stderr",
     "output_type": "stream",
     "text": [
      "Got stderr: out 06, 2021 12:56:42 PM org.apache.pdfbox.pdmodel.font.PDTrueTypeFont <init>\n",
      "WARNING: Using fallback font 'Arial-BoldMT' for 'Helvetica,Bold'\n",
      "out 06, 2021 12:56:45 PM org.apache.pdfbox.pdmodel.font.PDTrueTypeFont <init>\n",
      "WARNING: Using fallback font 'Arial-BoldMT' for 'Helvetica,Bold'\n",
      "out 06, 2021 12:56:47 PM org.apache.pdfbox.pdmodel.font.PDTrueTypeFont <init>\n",
      "WARNING: Using fallback font 'Arial-BoldMT' for 'Helvetica,Bold'\n",
      "\n"
     ]
    }
   ],
   "source": [
    "quadro31 = tabula.read_pdf(pdf_file, pages=[i for i in range(109,115)], \n",
    "                           pandas_options={'header':None})"
   ]
  },
  {
   "cell_type": "code",
   "execution_count": 59,
   "metadata": {},
   "outputs": [],
   "source": [
    "#Remove a ultima tabela da lista e cria um df vazio para fazer a concatenação\n",
    "quadro31.pop(-1)\n",
    "tabela = pd.DataFrame([])"
   ]
  },
  {
   "cell_type": "code",
   "execution_count": 60,
   "metadata": {},
   "outputs": [],
   "source": [
    "#Concatena os dataframes da lista em um\n",
    "for df in quadro31:\n",
    "  tabela = pd.concat([tabela,df])"
   ]
  },
  {
   "cell_type": "code",
   "execution_count": 62,
   "metadata": {},
   "outputs": [],
   "source": [
    "#Define o nome correto das colunas, define a coluna de código como index\n",
    "tabela.reset_index(inplace=True,drop=True)\n",
    "tabela.drop([0,1],inplace=True)\n",
    "tabela.columns = ['Código','Descrição da categoria']\n",
    "tabela.set_index(\"Código\",inplace=True)"
   ]
  },
  {
   "cell_type": "code",
   "execution_count": 64,
   "metadata": {},
   "outputs": [],
   "source": [
    "#Salva o arquivo como csv\n",
    "tabela.to_csv('quadro31.csv',sep=\";\")"
   ]
  },
  {
   "cell_type": "markdown",
   "metadata": {},
   "source": [
    "### Transformação do quadro 32"
   ]
  },
  {
   "cell_type": "code",
   "execution_count": 82,
   "metadata": {},
   "outputs": [
    {
     "name": "stderr",
     "output_type": "stream",
     "text": [
      "Got stderr: out 06, 2021 1:26:07 PM org.apache.pdfbox.pdmodel.font.PDTrueTypeFont <init>\n",
      "WARNING: Using fallback font 'Arial-BoldMT' for 'Helvetica,Bold'\n",
      "out 06, 2021 1:26:10 PM org.apache.pdfbox.pdmodel.font.PDTrueTypeFont <init>\n",
      "WARNING: Using fallback font 'Arial-BoldMT' for 'Helvetica,Bold'\n",
      "\n"
     ]
    }
   ],
   "source": [
    "quadro32 = tabula.read_pdf(pdf_file, pages=114)"
   ]
  },
  {
   "cell_type": "code",
   "execution_count": 83,
   "metadata": {},
   "outputs": [],
   "source": [
    "tabela = quadro32[-1]"
   ]
  },
  {
   "cell_type": "code",
   "execution_count": 84,
   "metadata": {},
   "outputs": [],
   "source": [
    "#Divide os dados com o nome correto das colunas\n",
    "tabela[[\"Código\",\"Descrição da categoria\"]] = tabela[\"Tabela de Tipo de Solicitação\"].str.split(\" \",1, expand=True)"
   ]
  },
  {
   "cell_type": "code",
   "execution_count": 85,
   "metadata": {},
   "outputs": [],
   "source": [
    "#Remove linhas e colunas desnecessárias\n",
    "tabela.drop('Tabela de Tipo de Solicitação',axis=1,inplace=True)\n",
    "tabela.drop([0,1],inplace=True)\n",
    "tabela.dropna(inplace=True)"
   ]
  },
  {
   "cell_type": "code",
   "execution_count": 86,
   "metadata": {},
   "outputs": [],
   "source": [
    "tabela.set_index(\"Código\",inplace=True)"
   ]
  },
  {
   "cell_type": "code",
   "execution_count": 87,
   "metadata": {},
   "outputs": [
    {
     "data": {
      "text/html": [
       "<div>\n",
       "<style scoped>\n",
       "    .dataframe tbody tr th:only-of-type {\n",
       "        vertical-align: middle;\n",
       "    }\n",
       "\n",
       "    .dataframe tbody tr th {\n",
       "        vertical-align: top;\n",
       "    }\n",
       "\n",
       "    .dataframe thead th {\n",
       "        text-align: right;\n",
       "    }\n",
       "</style>\n",
       "<table border=\"1\" class=\"dataframe\">\n",
       "  <thead>\n",
       "    <tr style=\"text-align: right;\">\n",
       "      <th></th>\n",
       "      <th>Descrição da categoria</th>\n",
       "    </tr>\n",
       "    <tr>\n",
       "      <th>Código</th>\n",
       "      <th></th>\n",
       "    </tr>\n",
       "  </thead>\n",
       "  <tbody>\n",
       "    <tr>\n",
       "      <th>1</th>\n",
       "      <td>Alteração</td>\n",
       "    </tr>\n",
       "    <tr>\n",
       "      <th>2</th>\n",
       "      <td>Inclusão</td>\n",
       "    </tr>\n",
       "    <tr>\n",
       "      <th>3</th>\n",
       "      <td>Exclusão</td>\n",
       "    </tr>\n",
       "  </tbody>\n",
       "</table>\n",
       "</div>"
      ],
      "text/plain": [
       "       Descrição da categoria\n",
       "Código                       \n",
       "1                   Alteração\n",
       "2                    Inclusão\n",
       "3                    Exclusão"
      ]
     },
     "metadata": {},
     "output_type": "display_data"
    }
   ],
   "source": [
    "display(tabela)"
   ]
  },
  {
   "cell_type": "code",
   "execution_count": 88,
   "metadata": {},
   "outputs": [],
   "source": [
    "#Salva o arquivo como csv\n",
    "tabela.to_csv('quadro32.csv',sep=\";\")"
   ]
  },
  {
   "cell_type": "code",
   "execution_count": null,
   "metadata": {},
   "outputs": [],
   "source": []
  }
 ],
 "metadata": {
  "kernelspec": {
   "display_name": "Python 3 (Spyder)",
   "language": "python3",
   "name": "python3"
  },
  "language_info": {
   "codemirror_mode": {
    "name": "ipython",
    "version": 3
   },
   "file_extension": ".py",
   "mimetype": "text/x-python",
   "name": "python",
   "nbconvert_exporter": "python",
   "pygments_lexer": "ipython3",
   "version": "3.8.5"
  }
 },
 "nbformat": 4,
 "nbformat_minor": 4
}
