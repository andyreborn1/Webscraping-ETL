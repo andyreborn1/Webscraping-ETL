{
 "cells": [
  {
   "cell_type": "code",
   "execution_count": 4,
   "metadata": {},
   "outputs": [],
   "source": [
    "import tabula\n",
    "import pandas as pd\n",
    "import glob\n",
    "from zipfile import ZipFile"
   ]
  },
  {
   "cell_type": "code",
   "execution_count": 19,
   "metadata": {},
   "outputs": [],
   "source": [
    "pdf_file = 'padrao_tiss_componente_organizacional_202108.pdf'"
   ]
  },
  {
   "cell_type": "markdown",
   "metadata": {},
   "source": [
    "### Transformação do quadro 30"
   ]
  },
  {
   "cell_type": "code",
   "execution_count": 21,
   "metadata": {},
   "outputs": [
    {
     "name": "stderr",
     "output_type": "stream",
     "text": [
      "Got stderr: out 06, 2021 10:34:29 AM org.apache.pdfbox.pdmodel.font.PDTrueTypeFont <init>\n",
      "WARNING: Using fallback font 'Arial-BoldMT' for 'Helvetica,Bold'\n",
      "out 06, 2021 10:34:32 AM org.apache.pdfbox.pdmodel.font.PDTrueTypeFont <init>\n",
      "WARNING: Using fallback font 'Arial-BoldMT' for 'Helvetica,Bold'\n",
      "\n"
     ]
    }
   ],
   "source": [
    "#Usa a lib tabula para transformar a tabela do pdf em dataframe\n",
    "quadro30 = tabula.read_pdf(pdf_file, pages = 108)\n",
    "tabela = quadro30[0]"
   ]
  },
  {
   "cell_type": "code",
   "execution_count": 25,
   "metadata": {},
   "outputs": [],
   "source": [
    "#Separa as tabelas de código e descrição\n",
    "tabela[[\"Código\",\"Descrição da categoria\"]] = tabela[\"Tabela de Tipo do Demandante\"].str.split(\" \",1, expand=True)"
   ]
  },
  {
   "cell_type": "code",
   "execution_count": 26,
   "metadata": {},
   "outputs": [],
   "source": [
    "#Define a tabela de código com índice do dataframe\n",
    "tabela.drop(['Tabela de Tipo do Demandante'],axis=1,inplace=True)\n",
    "tabela.columns = tabela.iloc[0]\n",
    "tabela.drop(0,inplace=True)\n",
    "tabela.set_index(\"Código\",inplace=True)"
   ]
  },
  {
   "cell_type": "code",
   "execution_count": 28,
   "metadata": {},
   "outputs": [],
   "source": [
    "#Salva o dataframe como um arquivo csv\n",
    "tabela.to_csv('quadro30.csv')"
   ]
  },
  {
   "cell_type": "code",
   "execution_count": null,
   "metadata": {},
   "outputs": [],
   "source": []
  }
 ],
 "metadata": {
  "kernelspec": {
   "display_name": "Python 3 (Spyder)",
   "language": "python3",
   "name": "python3"
  },
  "language_info": {
   "codemirror_mode": {
    "name": "ipython",
    "version": 3
   },
   "file_extension": ".py",
   "mimetype": "text/x-python",
   "name": "python",
   "nbconvert_exporter": "python",
   "pygments_lexer": "ipython3",
   "version": "3.8.5"
  }
 },
 "nbformat": 4,
 "nbformat_minor": 4
}
